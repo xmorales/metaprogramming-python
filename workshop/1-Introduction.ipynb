{
 "cells": [
  {
   "cell_type": "markdown",
   "metadata": {},
   "source": [
    "# Introduction\n",
    "\n",
    "If classes are also objects, who creates those classes?"
   ]
  },
  {
   "cell_type": "code",
   "execution_count": null,
   "metadata": {},
   "outputs": [],
   "source": [
    "class ImAClass:\n",
    "    pass\n",
    "im_an_instance = ImAClass()\n",
    "type(im_an_instance) # Gives us information of its class"
   ]
  },
  {
   "cell_type": "code",
   "execution_count": null,
   "metadata": {},
   "outputs": [],
   "source": [
    "import inspect\n",
    "\n",
    "print(f\"ImAClass is a class? {inspect.isclass(ImAClass)}\")\n",
    "print(f\"im_an_instance is a class? {inspect.isclass(im_an_instance)}\")\n",
    "print(f\"The type of im_an_instance is a class? {inspect.isclass(type(im_an_instance))}\")"
   ]
  },
  {
   "cell_type": "markdown",
   "metadata": {},
   "source": [
    "Because __'im_an_instance'__ is not a class (it's an instance of class _'ImAClass'_), it returns False.\n",
    "\n",
    "And because __'type(im_an_instance)'__ returns the class of __'im_an_instance'__, __inspect.isclass(type(im_an_instance))__ returns True"
   ]
  },
  {
   "cell_type": "code",
   "execution_count": null,
   "metadata": {},
   "outputs": [],
   "source": [
    "isinstance(im_an_instance,ImAClass)"
   ]
  },
  {
   "cell_type": "code",
   "execution_count": null,
   "metadata": {},
   "outputs": [],
   "source": [
    "isinstance(ImAClass,type)"
   ]
  },
  {
   "cell_type": "markdown",
   "metadata": {},
   "source": [
    "type is a __metaclass__, a metaclass instantiates and defines a class just as a class instantiates and defines an instance\n",
    "\n",
    "# Inheritance"
   ]
  },
  {
   "cell_type": "code",
   "execution_count": null,
   "metadata": {},
   "outputs": [],
   "source": [
    "class Base(): # also class Base(object):\n",
    "    clsattr = 'Base'\n",
    "    def __init__(self, id):\n",
    "        self.id = id\n",
    "\n",
    "class Derived(Base):\n",
    "    pass\n",
    "\n",
    "a = Derived(1)\n",
    "print(dir(a))\n",
    "print(dir(Derived))\n",
    "print(f\" This 'a' instance with id {a.id} is of type {type(a)}  that is of type {type(type(a))}\")\n",
    "print(f\" This 'Base' class is of type {type(Base)}\")\n"
   ]
  },
  {
   "cell_type": "markdown",
   "metadata": {},
   "source": [
    "So a derived class inherits the functions and values of its bases, but the hierarchy is not shown by 'type'."
   ]
  }
 ],
 "metadata": {
  "kernelspec": {
   "display_name": "Python 3 (ipykernel)",
   "language": "python",
   "name": "python3"
  },
  "language_info": {
   "codemirror_mode": {
    "name": "ipython",
    "version": 3
   },
   "file_extension": ".py",
   "mimetype": "text/x-python",
   "name": "python",
   "nbconvert_exporter": "python",
   "pygments_lexer": "ipython3",
   "version": "3.9.12"
  },
  "vscode": {
   "interpreter": {
    "hash": "aee8b7b246df8f9039afb4144a1f6fd8d2ca17a180786b69acc140d282b71a49"
   }
  }
 },
 "nbformat": 4,
 "nbformat_minor": 2
}
