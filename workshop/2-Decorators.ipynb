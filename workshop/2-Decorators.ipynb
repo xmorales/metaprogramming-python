{
 "cells": [
  {
   "cell_type": "markdown",
   "metadata": {},
   "source": [
    "# Decorators\n",
    "\n",
    "The most common way to apply metaprogramming in Python.\n",
    "You can add a piece of code that handles a function call.\n",
    "\n",
    "By definition, a decorator is a function that takes another function and extends the behavior of the latter function without explicitly modifying it.\n",
    "\n",
    "In Python, functions are first-class objects. This means that functions can be passed around and used as arguments.\n",
    "\n",
    "It’s possible to define functions inside other functions. Such functions are called inner functions. Here’s an example of a function with two inner functions:"
   ]
  },
  {
   "cell_type": "code",
   "execution_count": 20,
   "metadata": {},
   "outputs": [
    {
     "name": "stdout",
     "output_type": "stream",
     "text": [
      "Printing from the parent() function\n",
      "Printing from the second_child() function\n",
      "Printing from the first_child() function\n"
     ]
    }
   ],
   "source": [
    "def parent():\n",
    "    print(\"Printing from the parent() function\")\n",
    "\n",
    "    def first_child():\n",
    "        print(\"Printing from the first_child() function\")\n",
    "\n",
    "    def second_child():\n",
    "        print(\"Printing from the second_child() function\")\n",
    "\n",
    "    second_child()\n",
    "    first_child()\n",
    "# Let's call it\n",
    "parent()"
   ]
  },
  {
   "cell_type": "markdown",
   "metadata": {},
   "source": [
    "Note that the order in which the inner functions are defined does not matter. Like with any other functions, the printing only happens when the inner functions are executed.\n",
    "\n",
    "Furthermore, the inner functions are not defined until the parent function is called. They are locally scoped to parent(): they only exist inside the parent() function as local variables. Try calling first_child(). You should get an error.\n",
    "\n",
    "Python also allows you to use functions as return values. The following example returns one of the inner functions from the outer parent() function:"
   ]
  },
  {
   "cell_type": "code",
   "execution_count": null,
   "metadata": {},
   "outputs": [],
   "source": [
    "def parent(num):\n",
    "    def first_child():\n",
    "        return \"Hi, I am Emma\"\n",
    "\n",
    "    def second_child():\n",
    "        return \"Call me Liam\"\n",
    "\n",
    "    if num == 1:\n",
    "        return first_child\n",
    "    else:\n",
    "        return second_child\n",
    "\n",
    "print(parent(1)) # We are trying to print a function\n",
    "# Let's assign the functions to variables\n",
    "first = parent(1)\n",
    "second = parent(2)\n",
    "# We can call them as normal functions\n",
    "print(first()) \n",
    "print(second())"
   ]
  },
  {
   "cell_type": "markdown",
   "metadata": {},
   "source": [
    "## Simple Decorators\n",
    "Now that you’ve seen that functions are just like any other object in Python, you’re ready to move on and see the magical beast that is the Python decorator. Let’s start with an example:"
   ]
  },
  {
   "cell_type": "code",
   "execution_count": null,
   "metadata": {},
   "outputs": [],
   "source": [
    "def my_decorator(func):\n",
    "    def wrapper():\n",
    "        print(\"Something is happening before the function is called.\")\n",
    "        func()\n",
    "        print(\"Something is happening after the function is called.\")\n",
    "    return wrapper\n",
    "\n",
    "def say_whee():\n",
    "    print(\"Whee!\")\n",
    "\n",
    "say_whee = my_decorator(say_whee)\n",
    "\n",
    "# Let's call it\n",
    "say_whee()"
   ]
  },
  {
   "cell_type": "markdown",
   "metadata": {},
   "source": [
    "The name say_whee now points to the wrapper() inner function. Remember that you return wrapper as a function when you call my_decorator(say_whee).\n",
    "\n",
    "Because wrapper() is a regular Python function, the way a decorator modifies a function can change dynamically. So as not to disturb your neighbors, the following example will only run the decorated code during the day:"
   ]
  },
  {
   "cell_type": "code",
   "execution_count": null,
   "metadata": {},
   "outputs": [],
   "source": [
    "from datetime import datetime\n",
    "\n",
    "def not_during_the_night(func):\n",
    "    def wrapper():\n",
    "        if 7 <= datetime.now().hour < 22:\n",
    "            func()\n",
    "        else:\n",
    "            pass  # Hush, the neighbors are asleep\n",
    "    return wrapper\n",
    "\n",
    "def say_whee():\n",
    "    print(\"Whee!\")\n",
    "\n",
    "say_whee = not_during_the_night(say_whee)\n",
    "\n",
    "say_whee()"
   ]
  },
  {
   "cell_type": "markdown",
   "metadata": {},
   "source": [
    "Python allows you to use decorators in a simpler way with the @ symbol, sometimes called the “pie” syntax. \n",
    "\n",
    "The following example does the exact same thing as the first decorator example:"
   ]
  },
  {
   "cell_type": "code",
   "execution_count": null,
   "metadata": {},
   "outputs": [],
   "source": [
    "@my_decorator\n",
    "def say_whee():\n",
    "    print(\"Whee!\")\n",
    "\n",
    "say_whee()"
   ]
  },
  {
   "cell_type": "markdown",
   "metadata": {},
   "source": [
    "## Decorating functions with arguments\n",
    "\n",
    "When you have a function with parameters, can you still decorate it? Let's see:"
   ]
  },
  {
   "cell_type": "code",
   "execution_count": null,
   "metadata": {},
   "outputs": [],
   "source": [
    "def do_twice(func):\n",
    "    def wrapper_do_twice():\n",
    "        func()\n",
    "        func()\n",
    "    return wrapper_do_twice\n",
    "\n",
    "@do_twice\n",
    "def greet(name):\n",
    "    print(f\"Hello {name}\")\n",
    "\n",
    "greet(\"World\")"
   ]
  },
  {
   "cell_type": "markdown",
   "metadata": {},
   "source": [
    "The solution is to use *args and **kwargs in the inner wrapper function. Then it will accept an arbitrary number of positional and keyword arguments. \n",
    "\n",
    "Let's rewrite it:"
   ]
  },
  {
   "cell_type": "code",
   "execution_count": null,
   "metadata": {},
   "outputs": [],
   "source": [
    "def do_twice(func):\n",
    "    def wrapper_do_twice(*args, **kwargs):\n",
    "        func(*args, **kwargs)\n",
    "        func(*args, **kwargs)\n",
    "    return wrapper_do_twice\n",
    "\n",
    "@do_twice\n",
    "def say_whee():\n",
    "    print('Whee!')\n",
    "\n",
    "@do_twice\n",
    "def greet(name):\n",
    "    print(f\"Hello {name}\")\n",
    "\n",
    "greet(\"World\")\n",
    "say_whee()"
   ]
  },
  {
   "cell_type": "markdown",
   "metadata": {},
   "source": [
    "## Returning values from decorated functions\n",
    "\n",
    "If we want to return a value, as the decorator wraps the function, you need to return it from it. \n"
   ]
  },
  {
   "cell_type": "code",
   "execution_count": null,
   "metadata": {},
   "outputs": [],
   "source": [
    "# This won't work after previous code snippet\n",
    "@do_twice\n",
    "def return_greeting(name):\n",
    "    print(\"Creating greeting\")\n",
    "    return f\"Hi {name}\"\n",
    "\n",
    "return_greeting(\"Socialpoint\")"
   ]
  },
  {
   "cell_type": "code",
   "execution_count": null,
   "metadata": {},
   "outputs": [],
   "source": [
    "# This should work\n",
    "\n",
    "def do_twice(func):\n",
    "    def wrapper_do_twice(*args, **kwargs):\n",
    "        func(*args, **kwargs)\n",
    "        return func(*args, **kwargs)\n",
    "    return wrapper_do_twice\n",
    "\n",
    "# Now Run again the previous code ^^"
   ]
  },
  {
   "cell_type": "markdown",
   "metadata": {},
   "source": [
    "## Some real world examples\n",
    "Now we will try to see some real examples of decorators and more advanced behaviours. \n",
    "Let's see them first and then play with diferent calls."
   ]
  },
  {
   "cell_type": "code",
   "execution_count": 15,
   "metadata": {},
   "outputs": [],
   "source": [
    "import functools\n",
    "import time\n",
    "\n",
    "def timer(func):\n",
    "    \"\"\"Print the runtime of the decorated function\"\"\"\n",
    "    @functools.wraps(func) # <- See the reference for more info about this line\n",
    "    def wrapper_timer(*args, **kwargs):\n",
    "        start_time = time.perf_counter()    # 1\n",
    "        value = func(*args, **kwargs)\n",
    "        end_time = time.perf_counter()      # 2\n",
    "        run_time = end_time - start_time    # 3\n",
    "        print(f\"TIMER - Finished {func.__name__!r} in {run_time:.4f} secs\")\n",
    "        return value\n",
    "    return wrapper_timer\n",
    "\n",
    "def debug(func):\n",
    "    \"\"\"Print the function signature and return value\"\"\"\n",
    "    @functools.wraps(func)\n",
    "    def wrapper_debug(*args, **kwargs):\n",
    "        args_repr = [repr(a) for a in args]                      # 1\n",
    "        kwargs_repr = [f\"{k}={v!r}\" for k, v in kwargs.items()]  # 2\n",
    "        signature = \", \".join(args_repr + kwargs_repr)           # 3\n",
    "        print(f\"DEBUG - Calling {func.__name__}({signature})\")\n",
    "        value = func(*args, **kwargs)\n",
    "        print(f\"DEBUG - {func.__name__!r} returned {value!r}\")           # 4\n",
    "        return value\n",
    "    return wrapper_debug\n",
    "\n",
    "PLUGINS = dict()\n",
    "\n",
    "# We do not need to call the function in the decorator\n",
    "def register(func):\n",
    "    \"\"\" Register a function as a plug-in \"\"\"\n",
    "    PLUGINS[func.__name__] = func\n",
    "    return func\n",
    "\n",
    "# A decorator can accept parameters\n",
    "def repeat(num_times):\n",
    "    \"\"\" Repeat multiple times a function \"\"\"\n",
    "    def decorator_repeat(func):\n",
    "        @functools.wraps(func)\n",
    "        def wrapper_repeat(*args, **kwargs):\n",
    "            for _ in range(num_times):\n",
    "                value = func(*args, **kwargs)\n",
    "            return value\n",
    "        return wrapper_repeat\n",
    "    return decorator_repeat\n",
    "\n",
    "    "
   ]
  },
  {
   "cell_type": "code",
   "execution_count": 2,
   "metadata": {},
   "outputs": [
    {
     "name": "stdout",
     "output_type": "stream",
     "text": [
      "Calling waste_some_time(200)\n",
      "'waste_some_time' returned None\n",
      "Finished 'waste_some_time' in 0.4214 secs\n",
      "Calling make_greeting('Jordi')\n",
      "'make_greeting' returned 'Howdy Jordi!'\n",
      "Howdy Jordi!\n",
      "Calling make_greeting('Xavi', 73)\n",
      "'make_greeting' returned 'Whoa Xavi! 73 already, you are growing up!'\n",
      "Whoa Xavi! 73 already, you are growing up!\n",
      "Calling approximate_e(4)\n",
      "'approximate_e' returned 2.6666666666666665\n",
      "2.6666666666666665\n"
     ]
    }
   ],
   "source": [
    "# We can nest multiple decorators at once, order is important\n",
    "@timer\n",
    "@debug\n",
    "def waste_some_time(num_times):\n",
    "    for _ in range(num_times):\n",
    "        sum([i**2 for i in range(10000)])\n",
    "\n",
    "@debug\n",
    "def make_greeting(name, age=None):\n",
    "    if age is None:\n",
    "        return f\"Howdy {name}!\"\n",
    "    else:\n",
    "        return f\"Whoa {name}! {age} already, you are growing up!\"\n",
    "\n",
    "import math\n",
    "\n",
    "@debug\n",
    "def approximate_e(terms=18):\n",
    "    \"\"\"Calculate math constant e by aproximation\"\"\"\n",
    "    return sum(1 / math.factorial(n) for n in range(terms))\n",
    "\n",
    "waste_some_time(200)\n",
    "\n",
    "print(make_greeting(\"Jordi\"))\n",
    "print(make_greeting(\"Xavi\",73))\n",
    "\n",
    "print(approximate_e(4))\n",
    "\n",
    "# We also can apply a decorator to a standard library function\n",
    "# math.factorial = debug(math.factorial)\n",
    "\n",
    "# print(approximate_e(10))\n"
   ]
  },
  {
   "cell_type": "code",
   "execution_count": 19,
   "metadata": {},
   "outputs": [
    {
     "name": "stdout",
     "output_type": "stream",
     "text": [
      "Using 'say_hello'\n",
      "Using 'be_awesome'\n",
      "Using 'make_greeting'\n",
      "Calling make_greeting('Xavi')\n",
      "'make_greeting' returned 'Howdy Xavi!'\n",
      "Howdy Xavi!\n",
      "Using 'make_greeting'\n",
      "Calling make_greeting('Xavi')\n",
      "'make_greeting' returned 'Howdy Xavi!'\n",
      "Using 'make_greeting'\n",
      "Calling make_greeting('Xavi')\n",
      "'make_greeting' returned 'Howdy Xavi!'\n",
      "Using 'make_greeting'\n",
      "Calling make_greeting('Xavi')\n",
      "'make_greeting' returned 'Howdy Xavi!'\n",
      "Howdy Xavi!\n",
      "Using 'make_greeting'\n",
      "Calling make_greeting('Xavi')\n",
      "'make_greeting' returned 'Howdy Xavi!'\n",
      "Using 'say_hello'\n",
      "Using 'say_hello'\n",
      "Hello Xavi\n"
     ]
    }
   ],
   "source": [
    "@register\n",
    "def say_hello(name):\n",
    "    return f\"Hello {name}\"\n",
    "\n",
    "@register\n",
    "def be_awesome(name):\n",
    "    return f\"Yo {name}, together we are the awesomest!\"\n",
    "\n",
    "make_greeting = register(make_greeting)\n",
    "\n",
    "\n",
    "\n",
    "import random\n",
    "\n",
    "#@repeat(num_times=3)\n",
    "def randomly_greet(name):\n",
    "    greeter, greeter_func = random.choice(list(PLUGINS.items()))\n",
    "    print(f\"Using {greeter!r}\")\n",
    "    return greeter_func(name)\n",
    "\n",
    "print(randomly_greet(\"Xavi\"))\n",
    "# print(randomly_greet(\"Xavi\"))\n",
    "# print(randomly_greet(\"Xavi\"))"
   ]
  },
  {
   "cell_type": "markdown",
   "metadata": {},
   "source": [
    "## Some real usages for decorators\n",
    "\n",
    "As we have seen decorators give a way to manipulate how functions and classes work (yes, a class can also be decorated). Some typical usage for that is:\n",
    "- Registering functions: As we have seen, we can attach functions to a Web Framework\n",
    "  - Typically we can attach our own functions to API REST calls\n",
    "- Singleton classes: A class that can only be instantiated once\n",
    "- Cache return values: We can save a function result to avoid its calculation over and over.\n",
    "- Validating inputs: Working with JSON Schema or similar, we can validate that an input json is valid outside our function\n"
   ]
  }
 ],
 "metadata": {
  "kernelspec": {
   "display_name": "Python 3.10.3 64-bit",
   "language": "python",
   "name": "python3"
  },
  "language_info": {
   "codemirror_mode": {
    "name": "ipython",
    "version": 3
   },
   "file_extension": ".py",
   "mimetype": "text/x-python",
   "name": "python",
   "nbconvert_exporter": "python",
   "pygments_lexer": "ipython3",
   "version": "3.10.3"
  },
  "orig_nbformat": 4,
  "vscode": {
   "interpreter": {
    "hash": "aee8b7b246df8f9039afb4144a1f6fd8d2ca17a180786b69acc140d282b71a49"
   }
  }
 },
 "nbformat": 4,
 "nbformat_minor": 2
}
